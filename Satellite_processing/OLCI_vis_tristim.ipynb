{
 "cells": [
  {
   "cell_type": "markdown",
   "metadata": {},
   "source": [
    "The aim of this code is to take an inpur level 2 OLCI file and create a tri-stimulus true colour image from the reflectance values.\n",
    "\n",
    "Then it will also creat a matched image from the level 1 data allowing the masked data to also be viewed.  By comparing these 2 images you can look at the quality of the masking that is being applied to the OLCI data between level 1 and level 2.\n",
    "\n",
    "The example image has been chosen as it contains sea-ice, clouds, coastal waters and land.  This means that there are a variety of masks being applied between level 1 and level 2.\n",
    "\n",
    "Creating a 'true colour' image using both the level 1 radiances and the level 2 reflectances allows you to see the effect of atmospheric correction (the difference between the ocean colour as seen at the top of atmosphere and at the surface)."
   ]
  },
  {
   "cell_type": "markdown",
   "metadata": {},
   "source": [
    "Import a number of required modules and functions to aid in the processing"
   ]
  },
  {
   "cell_type": "code",
   "execution_count": 4,
   "metadata": {
    "collapsed": true
   },
   "outputs": [],
   "source": [
    "# imports\n",
    "import shutil, os, sys\n",
    "import argparse\n",
    "import numpy as np\n",
    "import matplotlib.pyplot as plt\n",
    "import urllib.request\n",
    "\n",
    "# ------------------------------------------------------------------------------\n",
    "# snappy modules\n",
    "import snappy\n",
    "from snappy import Product, ProductData, ProductIO, ProductUtils, ProgressMonitor\n"
   ]
  },
  {
   "cell_type": "markdown",
   "metadata": {},
   "source": [
    "Now we define that input data from level 2 (as stated earlier the image here is chosen to demonstrate multiple flags but you could change this to any other level 2 data files for a region of your own interest)."
   ]
  },
  {
   "cell_type": "code",
   "execution_count": 5,
   "metadata": {
    "collapsed": true
   },
   "outputs": [],
   "source": [
    "indir='/data/datasets/operational/sentinel3a_olci/level2/current/non_time_critical/swath/0d/2017/07/05/safe/S3A_OL_2_WFR____20170705T063341_20170705T063641_20170706T150012_0179_019_291_1799_MAR_O_NT_002.SEN3'\n",
    "\n",
    "COPY_DIR = indir.replace('.SEN3', '_copy.SEN3')\n",
    "COPY_DIR= '/tmp/'+os.path.basename(COPY_DIR)\n",
    "if os.path.isdir(COPY_DIR):\n",
    "    print COPY_DIR+' already exists'\n",
    "else:\n",
    "    shutil.copytree(indir, COPY_DIR)\n"
   ]
  },
  {
   "cell_type": "markdown",
   "metadata": {},
   "source": [
    "From the input file we will define the required data for input to the tri-stimulus equation."
   ]
  },
  {
   "cell_type": "code",
   "execution_count": 6,
   "metadata": {
    "collapsed": true
   },
   "outputs": [],
   "source": [
    "SOURCE_PRODUCT = ProductIO.readProduct(COPY_DIR+'/xfdumanifest.xml')\n",
    "\n",
    "IMAGE_MANAGER = snappy.jpy.get_type('org.esa.snap.core.image.ImageManager')\n",
    "JAI = snappy.jpy.get_type('javax.media.jai.JAI')\n",
    "Oa01_reflectance=SOURCE_PRODUCT.getBand('Oa01_reflectance')\n",
    "Oa02_reflectance=SOURCE_PRODUCT.getBand('Oa02_reflectance')\n",
    "Oa03_reflectance=SOURCE_PRODUCT.getBand('Oa03_reflectance')\n",
    "Oa04_reflectance=SOURCE_PRODUCT.getBand('Oa04_reflectance')\n",
    "Oa05_reflectance=SOURCE_PRODUCT.getBand('Oa05_reflectance')\n",
    "Oa06_reflectance=SOURCE_PRODUCT.getBand('Oa06_reflectance')\n",
    "Oa07_reflectance=SOURCE_PRODUCT.getBand('Oa07_reflectance')\n",
    "Oa08_reflectance=SOURCE_PRODUCT.getBand('Oa08_reflectance')\n",
    "Oa09_reflectance=SOURCE_PRODUCT.getBand('Oa09_reflectance')\n",
    "Oa10_reflectance=SOURCE_PRODUCT.getBand('Oa10_reflectance')\n",
    "\n",
    "\n"
   ]
  },
  {
   "cell_type": "markdown",
   "metadata": {},
   "source": [
    "Snappy allows the definition of an equation without reading all the data into python.  The epxression can then be executed using the snap processing and will make use of features such as chunking.  First we define the expressions for each of the tri-stimulus rgb bands that will go into a 'true colour' image."
   ]
  },
  {
   "cell_type": "code",
   "execution_count": 7,
   "metadata": {
    "collapsed": true
   },
   "outputs": [],
   "source": [
    "Rexpression = 'log(0.05 + 0.01 * Oa01_reflectance + 0.09 * Oa02_reflectance + 0.35 * Oa03_reflectance + 0.04 * Oa04_reflectance + 0.01 * Oa05_reflectance + 0.59 * Oa06_reflectance + 0.85 * Oa07_reflectance + 0.12 * Oa08_reflectance + 0.07 * Oa09_reflectance + 0.04 * Oa10_reflectance)'\n",
    "Gexpression = 'log(0.05 + 0.26 * Oa03_reflectance + 0.21 * Oa04_reflectance + 0.50 * Oa05_reflectance + Oa06_reflectance + 0.38 * Oa07_reflectance + 0.04 * Oa08_reflectance + 0.03 * Oa09_reflectance + 0.02 * Oa10_reflectance)'\n",
    "Bexpression = 'log(0.05 + 0.07 * Oa01_reflectance + 0.28 * Oa02_reflectance + 1.77 * Oa03_reflectance + 0.47 * Oa04_reflectance + 0.16 * Oa05_reflectance)'"
   ]
  },
  {
   "cell_type": "code",
   "execution_count": 8,
   "metadata": {
    "collapsed": true
   },
   "outputs": [],
   "source": [
    "newband1 = SOURCE_PRODUCT.addBand('red', Rexpression)\n",
    "newband1.setDescription(\"red vis band from tristimulus\")\n",
    "newband2 = SOURCE_PRODUCT.addBand('green', Gexpression)\n",
    "newband2.setDescription(\"green vis band from tristimulus\")\n",
    "newband3 = SOURCE_PRODUCT.addBand('blue', Bexpression)\n",
    "newband3.setDescription(\"blue vis band from tristimulus\")\n",
    "    "
   ]
  },
  {
   "cell_type": "markdown",
   "metadata": {},
   "source": [
    "Now we create an RGB image from the red green and blue bands created via the tri-stimulus expressions."
   ]
  },
  {
   "cell_type": "code",
   "execution_count": 9,
   "metadata": {
    "collapsed": true
   },
   "outputs": [],
   "source": [
    "\n",
    "RED = SOURCE_PRODUCT.getBand('red')\n",
    "GREEN = SOURCE_PRODUCT.getBand('green')\n",
    "BLUE = SOURCE_PRODUCT.getBand('blue')\n",
    "\n",
    "\n",
    "img_info = ProductUtils.createImageInfo([RED,GREEN, BLUE], True, ProgressMonitor.NULL)\n",
    "img = IMAGE_MANAGER.getInstance().createColoredBandImage([RED, GREEN, BLUE], img_info, 0)\n",
    "\n"
   ]
  },
  {
   "cell_type": "markdown",
   "metadata": {},
   "source": [
    "This true colour image can now be written out to a png for viewing."
   ]
  },
  {
   "cell_type": "code",
   "execution_count": 10,
   "metadata": {},
   "outputs": [
    {
     "data": {
      "text/plain": [
       "javax.media.jai.RenderedOp(objectRef=0x562c5dd40e38)"
      ]
     },
     "execution_count": 10,
     "metadata": {},
     "output_type": "execute_result"
    }
   ],
   "source": [
    "filename='/tmp/OLCI_test_out_tri_lvl2.png'\n",
    "file_format='PNG'\n",
    "\n",
    "JAI.create(\"filestore\", img, filename, file_format)"
   ]
  },
  {
   "cell_type": "markdown",
   "metadata": {},
   "source": [
    "You can view an image inline in the workbook but if it is a very large image it will probably exceed a memory limit for console input/output. To view the png here, uncomment the second line below (Image...) but don't be surprised if you get an error message."
   ]
  },
  {
   "cell_type": "code",
   "execution_count": 11,
   "metadata": {
    "collapsed": true
   },
   "outputs": [],
   "source": [
    "from IPython.display import Image\n",
    "#Image(filename='/tmp/OLCI_test_out_tri_lvl2.png')"
   ]
  },
  {
   "cell_type": "markdown",
   "metadata": {},
   "source": [
    "After p[rocessing we will cleanup the copied data used for processing the image so that we are not retaining data duplicates and inflating data volumes unnecessarily."
   ]
  },
  {
   "cell_type": "code",
   "execution_count": 12,
   "metadata": {
    "collapsed": true
   },
   "outputs": [],
   "source": [
    "#cleanup \n",
    "shutil.rmtree(COPY_DIR)\n",
    "\n"
   ]
  },
  {
   "cell_type": "markdown",
   "metadata": {},
   "source": [
    "We will now repeat the entire process using a level 1 file.  Note that now we are using radiances rather than reflectances and the expressions for the tri-stimulus bands have changed slightly."
   ]
  },
  {
   "cell_type": "code",
   "execution_count": 13,
   "metadata": {
    "collapsed": true
   },
   "outputs": [],
   "source": [
    "infile_location='https://ladsweb.modaps.eosdis.nasa.gov/archive/allData/450/S3A_OL_1_EFR/2017/186/S3A_OL_1_EFR____20170705T063341_20170705T063641_20180505T200006_0179_019_291_1800_LR2_R_NT_002.zip'\n",
    "\n",
    "urllib.request.urlretrieve(infile_location, \"mp3.mp3\")\n",
    "\n",
    "COPY_DIR = indir.replace('.SEN3', '_copy.SEN3')\n",
    "COPY_DIR= '/tmp/'+os.path.basename(COPY_DIR)\n",
    "if os.path.isdir(COPY_DIR):\n",
    "    print COPY_DIR+' already exists'\n",
    "else:\n",
    "    shutil.copytree(indir, COPY_DIR)\n",
    "SOURCE_PRODUCT = ProductIO.readProduct(COPY_DIR+'/xfdumanifest.xml')\n",
    "\n",
    "Oa01_radiance=SOURCE_PRODUCT.getBand('Oa01_radiance')\n",
    "Oa02_radiance=SOURCE_PRODUCT.getBand('Oa02_radiance')\n",
    "Oa03_radiance=SOURCE_PRODUCT.getBand('Oa03_radiance')\n",
    "Oa04_radiance=SOURCE_PRODUCT.getBand('Oa04_radiance')\n",
    "Oa05_radiance=SOURCE_PRODUCT.getBand('Oa05_radiance')\n",
    "Oa06_radiance=SOURCE_PRODUCT.getBand('Oa06_radiance')\n",
    "Oa07_radiance=SOURCE_PRODUCT.getBand('Oa07_radiance')\n",
    "Oa08_radiance=SOURCE_PRODUCT.getBand('Oa08_radiance')\n",
    "Oa09_radiance=SOURCE_PRODUCT.getBand('Oa09_radiance')\n",
    "Oa10_radiance=SOURCE_PRODUCT.getBand('Oa10_radiance')\n",
    "\n",
    "Rexpression = 'log(1.0 + 0.01 * Oa01_radiance + 0.09 * Oa02_radiance + 0.35 * Oa03_radiance + 0.04 * Oa04_radiance + 0.01 * Oa05_radiance + 0.59 * Oa06_radiance + 0.85 * Oa07_radiance + 0.12 * Oa08_radiance + 0.07 * Oa09_radiance + 0.04 * Oa10_radiance)'\n",
    "Gexpression = 'log(1.0 + 0.26 * Oa03_radiance + 0.21 * Oa04_radiance + 0.50 * Oa05_radiance + Oa06_radiance + 0.38 * Oa07_radiance + 0.04 * Oa08_radiance + 0.03 * Oa09_radiance + 0.02 * Oa10_radiance)'\n",
    "Bexpression = 'log(1.0 + 0.07 * Oa01_radiance + 0.28 * Oa02_radiance + 1.77 * Oa03_radiance + 0.47 * Oa04_radiance + 0.16 * Oa05_radiance)'\n",
    "\n",
    "newband1 = SOURCE_PRODUCT.addBand('red', Rexpression)\n",
    "newband1.setDescription(\"red vis band from tristimulus\")\n",
    "newband2 = SOURCE_PRODUCT.addBand('green', Gexpression)\n",
    "newband2.setDescription(\"green vis band from tristimulus\")\n",
    "newband3 = SOURCE_PRODUCT.addBand('blue', Bexpression)\n",
    "newband3.setDescription(\"blue vis band from tristimulus\")\n",
    "  \n",
    "RED = SOURCE_PRODUCT.getBand('red')\n",
    "GREEN = SOURCE_PRODUCT.getBand('green')\n",
    "BLUE = SOURCE_PRODUCT.getBand('blue')\n",
    "  \n",
    "img_info = ProductUtils.createImageInfo([RED,GREEN, BLUE], True, ProgressMonitor.NULL)\n",
    "img = IMAGE_MANAGER.getInstance().createColoredBandImage([RED, GREEN, BLUE], img_info, 0)\n",
    "\n",
    "filename='/tmp/OLCI_test_out_tri_lvl1.png'\n",
    "JAI.create(\"filestore\", img, filename, file_format)\n",
    "\n",
    "#cleanup \n",
    "shutil.rmtree(COPY_DIR)\n",
    "\n"
   ]
  },
  {
   "cell_type": "code",
   "execution_count": null,
   "metadata": {
    "collapsed": true
   },
   "outputs": [],
   "source": []
  }
 ],
 "metadata": {
  "kernelspec": {
   "display_name": "Python 2",
   "language": "python",
   "name": "python2"
  },
  "language_info": {
   "codemirror_mode": {
    "name": "ipython",
    "version": 2
   },
   "file_extension": ".py",
   "mimetype": "text/x-python",
   "name": "python",
   "nbconvert_exporter": "python",
   "pygments_lexer": "ipython2",
   "version": "2.7.13"
  }
 },
 "nbformat": 4,
 "nbformat_minor": 2
}
